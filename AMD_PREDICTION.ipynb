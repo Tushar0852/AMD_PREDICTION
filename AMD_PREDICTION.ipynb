{
  "nbformat": 4,
  "nbformat_minor": 0,
  "metadata": {
    "colab": {
      "provenance": [],
      "gpuType": "T4",
      "mount_file_id": "1KIt8KKXtvqu6stxMlKi5rc8fvODGWBQ9",
      "authorship_tag": "ABX9TyNnKKDJq7TrrUntnURpYiD8",
      "include_colab_link": true
    },
    "kernelspec": {
      "name": "python3",
      "display_name": "Python 3"
    },
    "language_info": {
      "name": "python"
    },
    "accelerator": "GPU"
  },
  "cells": [
    {
      "cell_type": "markdown",
      "metadata": {
        "id": "view-in-github",
        "colab_type": "text"
      },
      "source": [
        "<a href=\"https://colab.research.google.com/github/Tushar0852/AMD_PREDICTION/blob/main/AMD_PREDICTION.ipynb\" target=\"_parent\"><img src=\"https://colab.research.google.com/assets/colab-badge.svg\" alt=\"Open In Colab\"/></a>"
      ]
    },
    {
      "cell_type": "code",
      "source": [
        "from tensorflow.keras.models import Sequential\n",
        "from tensorflow.keras.layers import Conv2D, MaxPooling2D, GlobalAveragePooling2D, Dense, Dropout\n",
        "from tensorflow.keras.optimizers import Adam\n",
        "from tensorflow.keras.preprocessing.image import ImageDataGenerator\n",
        "from tensorflow.keras.callbacks import EarlyStopping, ReduceLROnPlateau\n",
        "from tensorflow.keras.regularizers import l2\n",
        "import os\n"
      ],
      "metadata": {
        "id": "ggO2H4zpQt3s"
      },
      "execution_count": null,
      "outputs": []
    },
    {
      "cell_type": "code",
      "source": [
        "train_dir = '/content/drive/MyDrive/SPILTTED_DATASET/train'\n",
        "val_dir = '/content/drive/MyDrive/SPILTTED_DATASET/val'\n",
        "test_dir = '/content/drive/MyDrive/SPILTTED_DATASET/test'\n"
      ],
      "metadata": {
        "id": "VME_-m-xUDxj"
      },
      "execution_count": null,
      "outputs": []
    },
    {
      "cell_type": "code",
      "source": [
        "train_datagen = ImageDataGenerator(\n",
        "    rescale=1./255,\n",
        "    rotation_range=30,\n",
        "    zoom_range=0.2,\n",
        "    horizontal_flip=True,\n",
        "    vertical_flip=True,\n",
        "    brightness_range=[0.8, 1.2],\n",
        "    width_shift_range=0.1,\n",
        "    height_shift_range=0.1\n",
        ")\n",
        "\n",
        "val_datagen = ImageDataGenerator(rescale=1./255)\n",
        "test_datagen = ImageDataGenerator(rescale=1./255)\n"
      ],
      "metadata": {
        "id": "uFEuSLhxUOjq"
      },
      "execution_count": null,
      "outputs": []
    },
    {
      "cell_type": "code",
      "source": [
        "train_generator = train_datagen.flow_from_directory(\n",
        "    train_dir,\n",
        "    target_size=(224, 224),\n",
        "    batch_size=32,\n",
        "    class_mode='binary'\n",
        ")\n",
        "\n",
        "val_generator = val_datagen.flow_from_directory(\n",
        "    val_dir,\n",
        "    target_size=(224, 224),\n",
        "    batch_size=32,\n",
        "    class_mode='binary'\n",
        ")\n",
        "\n",
        "test_generator = test_datagen.flow_from_directory(\n",
        "    test_dir,\n",
        "    target_size=(224, 224),\n",
        "    batch_size=32,\n",
        "    class_mode='binary',\n",
        "    shuffle=False\n",
        ")\n"
      ],
      "metadata": {
        "colab": {
          "base_uri": "https://localhost:8080/"
        },
        "id": "kUcHaatjUQ-D",
        "outputId": "1816fb88-0c45-4d13-ea13-dd78ecbf001a"
      },
      "execution_count": null,
      "outputs": [
        {
          "output_type": "stream",
          "name": "stdout",
          "text": [
            "Found 1244 images belonging to 2 classes.\n",
            "Found 156 images belonging to 2 classes.\n",
            "Found 156 images belonging to 2 classes.\n"
          ]
        }
      ]
    },
    {
      "cell_type": "code",
      "source": [
        "model = Sequential()\n",
        "model.add(Conv2D(32, (3, 3), activation='relu', input_shape=(224, 224, 3)))\n",
        "model.add(MaxPooling2D(pool_size=(2, 2)))\n",
        "model.add(Conv2D(64, (3, 3), activation='relu'))\n",
        "model.add(MaxPooling2D(pool_size=(2, 2)))\n",
        "model.add(Conv2D(128, (3, 3), activation='relu'))\n",
        "model.add(MaxPooling2D(pool_size=(2, 2)))\n",
        "model.add(GlobalAveragePooling2D())\n",
        "model.add(Dense(128, activation='relu', kernel_regularizer=l2(0.001)))\n",
        "model.add(Dropout(0.5))\n",
        "model.add(Dense(1, activation='sigmoid'))\n"
      ],
      "metadata": {
        "id": "3alR4jRJUURS"
      },
      "execution_count": null,
      "outputs": []
    },
    {
      "cell_type": "code",
      "source": [
        "model.compile(optimizer=Adam(learning_rate=1e-4),\n",
        "              loss='binary_crossentropy',\n",
        "              metrics=['accuracy'])\n"
      ],
      "metadata": {
        "id": "Ka7Z9no3UZog"
      },
      "execution_count": null,
      "outputs": []
    },
    {
      "cell_type": "code",
      "source": [
        "early_stopping = EarlyStopping(monitor='val_loss', patience=5, restore_best_weights=True)\n",
        "reduce_lr = ReduceLROnPlateau(monitor='val_loss', factor=0.2, patience=3, verbose=1)\n"
      ],
      "metadata": {
        "id": "1VDSfotHUesM"
      },
      "execution_count": null,
      "outputs": []
    },
    {
      "cell_type": "code",
      "source": [
        "history = model.fit(\n",
        "    train_generator,\n",
        "    validation_data=val_generator,\n",
        "    epochs=50,\n",
        "    callbacks=[early_stopping, reduce_lr]\n",
        ")\n"
      ],
      "metadata": {
        "colab": {
          "base_uri": "https://localhost:8080/"
        },
        "id": "QNGsOt-7Uf-v",
        "outputId": "0d115172-83ff-468d-cbd2-38341143f645"
      },
      "execution_count": null,
      "outputs": [
        {
          "output_type": "stream",
          "name": "stdout",
          "text": [
            "Epoch 1/50\n",
            "\u001b[1m39/39\u001b[0m \u001b[32m━━━━━━━━━━━━━━━━━━━━\u001b[0m\u001b[37m\u001b[0m \u001b[1m145s\u001b[0m 4s/step - accuracy: 0.5009 - loss: 0.8198 - val_accuracy: 0.5000 - val_loss: 0.8103 - learning_rate: 1.0000e-04\n",
            "Epoch 2/50\n",
            "\u001b[1m39/39\u001b[0m \u001b[32m━━━━━━━━━━━━━━━━━━━━\u001b[0m\u001b[37m\u001b[0m \u001b[1m37s\u001b[0m 940ms/step - accuracy: 0.5055 - loss: 0.8117 - val_accuracy: 0.7949 - val_loss: 0.8014 - learning_rate: 1.0000e-04\n",
            "Epoch 3/50\n",
            "\u001b[1m39/39\u001b[0m \u001b[32m━━━━━━━━━━━━━━━━━━━━\u001b[0m\u001b[37m\u001b[0m \u001b[1m37s\u001b[0m 957ms/step - accuracy: 0.5926 - loss: 0.8015 - val_accuracy: 0.4936 - val_loss: 0.7899 - learning_rate: 1.0000e-04\n",
            "Epoch 4/50\n",
            "\u001b[1m39/39\u001b[0m \u001b[32m━━━━━━━━━━━━━━━━━━━━\u001b[0m\u001b[37m\u001b[0m \u001b[1m37s\u001b[0m 966ms/step - accuracy: 0.5851 - loss: 0.7900 - val_accuracy: 0.7756 - val_loss: 0.7677 - learning_rate: 1.0000e-04\n",
            "Epoch 5/50\n",
            "\u001b[1m39/39\u001b[0m \u001b[32m━━━━━━━━━━━━━━━━━━━━\u001b[0m\u001b[37m\u001b[0m \u001b[1m35s\u001b[0m 909ms/step - accuracy: 0.6435 - loss: 0.7742 - val_accuracy: 0.8333 - val_loss: 0.7379 - learning_rate: 1.0000e-04\n",
            "Epoch 6/50\n",
            "\u001b[1m39/39\u001b[0m \u001b[32m━━━━━━━━━━━━━━━━━━━━\u001b[0m\u001b[37m\u001b[0m \u001b[1m37s\u001b[0m 942ms/step - accuracy: 0.6636 - loss: 0.7522 - val_accuracy: 0.8077 - val_loss: 0.6947 - learning_rate: 1.0000e-04\n",
            "Epoch 7/50\n",
            "\u001b[1m39/39\u001b[0m \u001b[32m━━━━━━━━━━━━━━━━━━━━\u001b[0m\u001b[37m\u001b[0m \u001b[1m37s\u001b[0m 943ms/step - accuracy: 0.6633 - loss: 0.7354 - val_accuracy: 0.8526 - val_loss: 0.6403 - learning_rate: 1.0000e-04\n",
            "Epoch 8/50\n",
            "\u001b[1m39/39\u001b[0m \u001b[32m━━━━━━━━━━━━━━━━━━━━\u001b[0m\u001b[37m\u001b[0m \u001b[1m36s\u001b[0m 916ms/step - accuracy: 0.6764 - loss: 0.6907 - val_accuracy: 0.8269 - val_loss: 0.5977 - learning_rate: 1.0000e-04\n",
            "Epoch 9/50\n",
            "\u001b[1m39/39\u001b[0m \u001b[32m━━━━━━━━━━━━━━━━━━━━\u001b[0m\u001b[37m\u001b[0m \u001b[1m37s\u001b[0m 931ms/step - accuracy: 0.7120 - loss: 0.6851 - val_accuracy: 0.7949 - val_loss: 0.5768 - learning_rate: 1.0000e-04\n",
            "Epoch 10/50\n",
            "\u001b[1m39/39\u001b[0m \u001b[32m━━━━━━━━━━━━━━━━━━━━\u001b[0m\u001b[37m\u001b[0m \u001b[1m36s\u001b[0m 931ms/step - accuracy: 0.6605 - loss: 0.6684 - val_accuracy: 0.8333 - val_loss: 0.5506 - learning_rate: 1.0000e-04\n",
            "Epoch 11/50\n",
            "\u001b[1m39/39\u001b[0m \u001b[32m━━━━━━━━━━━━━━━━━━━━\u001b[0m\u001b[37m\u001b[0m \u001b[1m37s\u001b[0m 955ms/step - accuracy: 0.6819 - loss: 0.6651 - val_accuracy: 0.8269 - val_loss: 0.5455 - learning_rate: 1.0000e-04\n",
            "Epoch 12/50\n",
            "\u001b[1m39/39\u001b[0m \u001b[32m━━━━━━━━━━━━━━━━━━━━\u001b[0m\u001b[37m\u001b[0m \u001b[1m35s\u001b[0m 909ms/step - accuracy: 0.6981 - loss: 0.6491 - val_accuracy: 0.8397 - val_loss: 0.5383 - learning_rate: 1.0000e-04\n",
            "Epoch 13/50\n",
            "\u001b[1m39/39\u001b[0m \u001b[32m━━━━━━━━━━━━━━━━━━━━\u001b[0m\u001b[37m\u001b[0m \u001b[1m37s\u001b[0m 947ms/step - accuracy: 0.7235 - loss: 0.6082 - val_accuracy: 0.8141 - val_loss: 0.5357 - learning_rate: 1.0000e-04\n",
            "Epoch 14/50\n",
            "\u001b[1m39/39\u001b[0m \u001b[32m━━━━━━━━━━━━━━━━━━━━\u001b[0m\u001b[37m\u001b[0m \u001b[1m38s\u001b[0m 971ms/step - accuracy: 0.7347 - loss: 0.5973 - val_accuracy: 0.8462 - val_loss: 0.4917 - learning_rate: 1.0000e-04\n",
            "Epoch 15/50\n",
            "\u001b[1m39/39\u001b[0m \u001b[32m━━━━━━━━━━━━━━━━━━━━\u001b[0m\u001b[37m\u001b[0m \u001b[1m37s\u001b[0m 949ms/step - accuracy: 0.7068 - loss: 0.6238 - val_accuracy: 0.8397 - val_loss: 0.5078 - learning_rate: 1.0000e-04\n",
            "Epoch 16/50\n",
            "\u001b[1m39/39\u001b[0m \u001b[32m━━━━━━━━━━━━━━━━━━━━\u001b[0m\u001b[37m\u001b[0m \u001b[1m36s\u001b[0m 925ms/step - accuracy: 0.7227 - loss: 0.6061 - val_accuracy: 0.8590 - val_loss: 0.4738 - learning_rate: 1.0000e-04\n",
            "Epoch 17/50\n",
            "\u001b[1m39/39\u001b[0m \u001b[32m━━━━━━━━━━━━━━━━━━━━\u001b[0m\u001b[37m\u001b[0m \u001b[1m42s\u001b[0m 945ms/step - accuracy: 0.7138 - loss: 0.6011 - val_accuracy: 0.8397 - val_loss: 0.4727 - learning_rate: 1.0000e-04\n",
            "Epoch 18/50\n",
            "\u001b[1m39/39\u001b[0m \u001b[32m━━━━━━━━━━━━━━━━━━━━\u001b[0m\u001b[37m\u001b[0m \u001b[1m35s\u001b[0m 907ms/step - accuracy: 0.7330 - loss: 0.6034 - val_accuracy: 0.8590 - val_loss: 0.4576 - learning_rate: 1.0000e-04\n",
            "Epoch 19/50\n",
            "\u001b[1m39/39\u001b[0m \u001b[32m━━━━━━━━━━━━━━━━━━━━\u001b[0m\u001b[37m\u001b[0m \u001b[1m37s\u001b[0m 938ms/step - accuracy: 0.7346 - loss: 0.5820 - val_accuracy: 0.8462 - val_loss: 0.4447 - learning_rate: 1.0000e-04\n",
            "Epoch 20/50\n",
            "\u001b[1m39/39\u001b[0m \u001b[32m━━━━━━━━━━━━━━━━━━━━\u001b[0m\u001b[37m\u001b[0m \u001b[1m37s\u001b[0m 943ms/step - accuracy: 0.7631 - loss: 0.5549 - val_accuracy: 0.8462 - val_loss: 0.4411 - learning_rate: 1.0000e-04\n",
            "Epoch 21/50\n",
            "\u001b[1m39/39\u001b[0m \u001b[32m━━━━━━━━━━━━━━━━━━━━\u001b[0m\u001b[37m\u001b[0m \u001b[1m37s\u001b[0m 955ms/step - accuracy: 0.7616 - loss: 0.5409 - val_accuracy: 0.8269 - val_loss: 0.4525 - learning_rate: 1.0000e-04\n",
            "Epoch 22/50\n",
            "\u001b[1m39/39\u001b[0m \u001b[32m━━━━━━━━━━━━━━━━━━━━\u001b[0m\u001b[37m\u001b[0m \u001b[1m41s\u001b[0m 949ms/step - accuracy: 0.7606 - loss: 0.5386 - val_accuracy: 0.8590 - val_loss: 0.4098 - learning_rate: 1.0000e-04\n",
            "Epoch 23/50\n",
            "\u001b[1m39/39\u001b[0m \u001b[32m━━━━━━━━━━━━━━━━━━━━\u001b[0m\u001b[37m\u001b[0m \u001b[1m36s\u001b[0m 927ms/step - accuracy: 0.7529 - loss: 0.5555 - val_accuracy: 0.8269 - val_loss: 0.4188 - learning_rate: 1.0000e-04\n",
            "Epoch 24/50\n",
            "\u001b[1m39/39\u001b[0m \u001b[32m━━━━━━━━━━━━━━━━━━━━\u001b[0m\u001b[37m\u001b[0m \u001b[1m37s\u001b[0m 935ms/step - accuracy: 0.7451 - loss: 0.5467 - val_accuracy: 0.8782 - val_loss: 0.3971 - learning_rate: 1.0000e-04\n",
            "Epoch 25/50\n",
            "\u001b[1m39/39\u001b[0m \u001b[32m━━━━━━━━━━━━━━━━━━━━\u001b[0m\u001b[37m\u001b[0m \u001b[1m37s\u001b[0m 934ms/step - accuracy: 0.7760 - loss: 0.5218 - val_accuracy: 0.8269 - val_loss: 0.4175 - learning_rate: 1.0000e-04\n",
            "Epoch 26/50\n",
            "\u001b[1m39/39\u001b[0m \u001b[32m━━━━━━━━━━━━━━━━━━━━\u001b[0m\u001b[37m\u001b[0m \u001b[1m41s\u001b[0m 933ms/step - accuracy: 0.8066 - loss: 0.5001 - val_accuracy: 0.8205 - val_loss: 0.4137 - learning_rate: 1.0000e-04\n",
            "Epoch 27/50\n",
            "\u001b[1m39/39\u001b[0m \u001b[32m━━━━━━━━━━━━━━━━━━━━\u001b[0m\u001b[37m\u001b[0m \u001b[1m36s\u001b[0m 940ms/step - accuracy: 0.8252 - loss: 0.4617 - val_accuracy: 0.8590 - val_loss: 0.3713 - learning_rate: 1.0000e-04\n",
            "Epoch 28/50\n",
            "\u001b[1m39/39\u001b[0m \u001b[32m━━━━━━━━━━━━━━━━━━━━\u001b[0m\u001b[37m\u001b[0m \u001b[1m35s\u001b[0m 908ms/step - accuracy: 0.7779 - loss: 0.5108 - val_accuracy: 0.8654 - val_loss: 0.3567 - learning_rate: 1.0000e-04\n",
            "Epoch 29/50\n",
            "\u001b[1m39/39\u001b[0m \u001b[32m━━━━━━━━━━━━━━━━━━━━\u001b[0m\u001b[37m\u001b[0m \u001b[1m38s\u001b[0m 963ms/step - accuracy: 0.7884 - loss: 0.5034 - val_accuracy: 0.8846 - val_loss: 0.3631 - learning_rate: 1.0000e-04\n",
            "Epoch 30/50\n",
            "\u001b[1m39/39\u001b[0m \u001b[32m━━━━━━━━━━━━━━━━━━━━\u001b[0m\u001b[37m\u001b[0m \u001b[1m37s\u001b[0m 934ms/step - accuracy: 0.7913 - loss: 0.4997 - val_accuracy: 0.8846 - val_loss: 0.3562 - learning_rate: 1.0000e-04\n",
            "Epoch 31/50\n",
            "\u001b[1m39/39\u001b[0m \u001b[32m━━━━━━━━━━━━━━━━━━━━\u001b[0m\u001b[37m\u001b[0m \u001b[1m37s\u001b[0m 952ms/step - accuracy: 0.7854 - loss: 0.4939 - val_accuracy: 0.8526 - val_loss: 0.3503 - learning_rate: 1.0000e-04\n",
            "Epoch 32/50\n",
            "\u001b[1m39/39\u001b[0m \u001b[32m━━━━━━━━━━━━━━━━━━━━\u001b[0m\u001b[37m\u001b[0m \u001b[1m35s\u001b[0m 909ms/step - accuracy: 0.7999 - loss: 0.4809 - val_accuracy: 0.8910 - val_loss: 0.3485 - learning_rate: 1.0000e-04\n",
            "Epoch 33/50\n",
            "\u001b[1m39/39\u001b[0m \u001b[32m━━━━━━━━━━━━━━━━━━━━\u001b[0m\u001b[37m\u001b[0m \u001b[1m37s\u001b[0m 959ms/step - accuracy: 0.7891 - loss: 0.4918 - val_accuracy: 0.8846 - val_loss: 0.3480 - learning_rate: 1.0000e-04\n",
            "Epoch 34/50\n",
            "\u001b[1m39/39\u001b[0m \u001b[32m━━━━━━━━━━━━━━━━━━━━\u001b[0m\u001b[37m\u001b[0m \u001b[1m37s\u001b[0m 943ms/step - accuracy: 0.8100 - loss: 0.4558 - val_accuracy: 0.8718 - val_loss: 0.3482 - learning_rate: 1.0000e-04\n",
            "Epoch 35/50\n",
            "\u001b[1m39/39\u001b[0m \u001b[32m━━━━━━━━━━━━━━━━━━━━\u001b[0m\u001b[37m\u001b[0m \u001b[1m37s\u001b[0m 940ms/step - accuracy: 0.8030 - loss: 0.4771 - val_accuracy: 0.8526 - val_loss: 0.3699 - learning_rate: 1.0000e-04\n",
            "Epoch 36/50\n",
            "\u001b[1m39/39\u001b[0m \u001b[32m━━━━━━━━━━━━━━━━━━━━\u001b[0m\u001b[37m\u001b[0m \u001b[1m36s\u001b[0m 908ms/step - accuracy: 0.8095 - loss: 0.4674 - val_accuracy: 0.8974 - val_loss: 0.3262 - learning_rate: 1.0000e-04\n",
            "Epoch 37/50\n",
            "\u001b[1m39/39\u001b[0m \u001b[32m━━━━━━━━━━━━━━━━━━━━\u001b[0m\u001b[37m\u001b[0m \u001b[1m37s\u001b[0m 954ms/step - accuracy: 0.7998 - loss: 0.4760 - val_accuracy: 0.8846 - val_loss: 0.3232 - learning_rate: 1.0000e-04\n",
            "Epoch 38/50\n",
            "\u001b[1m39/39\u001b[0m \u001b[32m━━━━━━━━━━━━━━━━━━━━\u001b[0m\u001b[37m\u001b[0m \u001b[1m37s\u001b[0m 939ms/step - accuracy: 0.7911 - loss: 0.4932 - val_accuracy: 0.9038 - val_loss: 0.3362 - learning_rate: 1.0000e-04\n",
            "Epoch 39/50\n",
            "\u001b[1m39/39\u001b[0m \u001b[32m━━━━━━━━━━━━━━━━━━━━\u001b[0m\u001b[37m\u001b[0m \u001b[1m39s\u001b[0m 988ms/step - accuracy: 0.7972 - loss: 0.4600 - val_accuracy: 0.9038 - val_loss: 0.3223 - learning_rate: 1.0000e-04\n",
            "Epoch 40/50\n",
            "\u001b[1m39/39\u001b[0m \u001b[32m━━━━━━━━━━━━━━━━━━━━\u001b[0m\u001b[37m\u001b[0m \u001b[1m39s\u001b[0m 943ms/step - accuracy: 0.7923 - loss: 0.4706 - val_accuracy: 0.8654 - val_loss: 0.3722 - learning_rate: 1.0000e-04\n",
            "Epoch 41/50\n",
            "\u001b[1m39/39\u001b[0m \u001b[32m━━━━━━━━━━━━━━━━━━━━\u001b[0m\u001b[37m\u001b[0m \u001b[1m36s\u001b[0m 915ms/step - accuracy: 0.7849 - loss: 0.4672 - val_accuracy: 0.9103 - val_loss: 0.3292 - learning_rate: 1.0000e-04\n",
            "Epoch 42/50\n",
            "\u001b[1m39/39\u001b[0m \u001b[32m━━━━━━━━━━━━━━━━━━━━\u001b[0m\u001b[37m\u001b[0m \u001b[1m0s\u001b[0m 879ms/step - accuracy: 0.8022 - loss: 0.4593\n",
            "Epoch 42: ReduceLROnPlateau reducing learning rate to 1.9999999494757503e-05.\n",
            "\u001b[1m39/39\u001b[0m \u001b[32m━━━━━━━━━━━━━━━━━━━━\u001b[0m\u001b[37m\u001b[0m \u001b[1m37s\u001b[0m 938ms/step - accuracy: 0.8022 - loss: 0.4593 - val_accuracy: 0.8910 - val_loss: 0.3255 - learning_rate: 1.0000e-04\n",
            "Epoch 43/50\n",
            "\u001b[1m39/39\u001b[0m \u001b[32m━━━━━━━━━━━━━━━━━━━━\u001b[0m\u001b[37m\u001b[0m \u001b[1m39s\u001b[0m 991ms/step - accuracy: 0.8188 - loss: 0.4384 - val_accuracy: 0.8974 - val_loss: 0.3233 - learning_rate: 2.0000e-05\n",
            "Epoch 44/50\n",
            "\u001b[1m39/39\u001b[0m \u001b[32m━━━━━━━━━━━━━━━━━━━━\u001b[0m\u001b[37m\u001b[0m \u001b[1m37s\u001b[0m 943ms/step - accuracy: 0.7854 - loss: 0.4850 - val_accuracy: 0.8782 - val_loss: 0.3436 - learning_rate: 2.0000e-05\n"
          ]
        }
      ]
    },
    {
      "cell_type": "code",
      "source": [
        "model.save('amd_classifier_model.keras')\n"
      ],
      "metadata": {
        "id": "srd54rPQbY_l"
      },
      "execution_count": null,
      "outputs": []
    },
    {
      "cell_type": "code",
      "source": [
        "test_loss, test_acc = model.evaluate(test_generator)\n",
        "print(f\"Test Accuracy: {test_acc:.4f}\")\n",
        "\n"
      ],
      "metadata": {
        "colab": {
          "base_uri": "https://localhost:8080/"
        },
        "id": "gfcMa3Vfbbxa",
        "outputId": "6b537a12-278f-47a9-c614-600ae069d880"
      },
      "execution_count": null,
      "outputs": [
        {
          "output_type": "stream",
          "name": "stdout",
          "text": [
            "\u001b[1m5/5\u001b[0m \u001b[32m━━━━━━━━━━━━━━━━━━━━\u001b[0m\u001b[37m\u001b[0m \u001b[1m35s\u001b[0m 9s/step - accuracy: 0.8461 - loss: 0.3941\n",
            "Test Accuracy: 0.8846\n"
          ]
        }
      ]
    },
    {
      "cell_type": "code",
      "source": [
        "import numpy as np\n",
        "from sklearn.metrics import classification_report, confusion_matrix, ConfusionMatrixDisplay\n",
        "from sklearn.metrics import accuracy_score, precision_score, recall_score, f1_score, roc_auc_score, roc_curve\n",
        "import matplotlib.pyplot as plt\n"
      ],
      "metadata": {
        "id": "SxHDq51WbglQ"
      },
      "execution_count": null,
      "outputs": []
    },
    {
      "cell_type": "code",
      "source": [
        "y_true = test_generator.classes\n",
        "y_pred_probs = model.predict(test_generator)\n",
        "y_pred = np.round(y_pred_probs).astype(int).flatten()  # Convert to binary (0 or 1)\n"
      ],
      "metadata": {
        "colab": {
          "base_uri": "https://localhost:8080/"
        },
        "id": "lThG55_obsDF",
        "outputId": "98c1c208-fcb6-43b8-b115-6b05bb839a53"
      },
      "execution_count": null,
      "outputs": [
        {
          "output_type": "stream",
          "name": "stdout",
          "text": [
            "\u001b[1m5/5\u001b[0m \u001b[32m━━━━━━━━━━━━━━━━━━━━\u001b[0m\u001b[37m\u001b[0m \u001b[1m3s\u001b[0m 454ms/step\n"
          ]
        }
      ]
    },
    {
      "cell_type": "code",
      "source": [
        "print(\"Accuracy:\", accuracy_score(y_true, y_pred))\n",
        "print(\"Precision:\", precision_score(y_true, y_pred))\n",
        "print(\"Recall:\", recall_score(y_true, y_pred))\n",
        "print(\"F1 Score:\", f1_score(y_true, y_pred))\n",
        "print(\"AUC Score:\", roc_auc_score(y_true, y_pred_probs))\n"
      ],
      "metadata": {
        "colab": {
          "base_uri": "https://localhost:8080/"
        },
        "id": "cAEZDp4jbugn",
        "outputId": "5a1bb819-79f2-4985-a1d0-f1e71aa6724b"
      },
      "execution_count": null,
      "outputs": [
        {
          "output_type": "stream",
          "name": "stdout",
          "text": [
            "Accuracy: 0.8846153846153846\n",
            "Precision: 0.8409090909090909\n",
            "Recall: 0.9487179487179487\n",
            "F1 Score: 0.891566265060241\n",
            "AUC Score: 0.9669625246548323\n"
          ]
        }
      ]
    },
    {
      "cell_type": "code",
      "source": [
        "cm = confusion_matrix(y_true, y_pred, normalize='true')\n",
        "disp = ConfusionMatrixDisplay(confusion_matrix=cm, display_labels=test_generator.class_indices)\n",
        "disp.plot(cmap=plt.cm.Blues)\n",
        "plt.title(\"Normalized Confusion Matrix\")\n",
        "plt.show()\n"
      ],
      "metadata": {
        "colab": {
          "base_uri": "https://localhost:8080/",
          "height": 472
        },
        "id": "fbowoppjb34U",
        "outputId": "8fdda893-c508-46d0-d4b9-b03b0b615409"
      },
      "execution_count": null,
      "outputs": [
        {
          "output_type": "display_data",
          "data": {
            "text/plain": [
              "<Figure size 640x480 with 2 Axes>"
            ],
            "image/png": "[encoded data removed]"
          },
          "metadata": {}
        }
      ]
    },
    {
      "cell_type": "code",
      "source": [
        "fpr, tpr, thresholds = roc_curve(y_true, y_pred_probs)\n",
        "plt.figure(figsize=(6, 4))\n",
        "plt.plot(fpr, tpr, label='AUC = {:.2f}'.format(roc_auc_score(y_true, y_pred_probs)))\n",
        "plt.plot([0, 1], [0, 1], linestyle='--', color='gray')\n",
        "plt.xlabel('False Positive Rate')\n",
        "plt.ylabel('True Positive Rate')\n",
        "plt.title('ROC Curve')\n",
        "plt.legend()\n",
        "plt.grid()\n",
        "plt.show()\n"
      ],
      "metadata": {
        "colab": {
          "base_uri": "https://localhost:8080/",
          "height": 410
        },
        "id": "h_Jw1D6pb7g5",
        "outputId": "6e3bccf2-6a14-48a8-f8d5-b3cfc3310740"
      },
      "execution_count": null,
      "outputs": [
        {
          "output_type": "display_data",
          "data": {
            "text/plain": [
              "<Figure size 600x400 with 1 Axes>"
            ],
            "image/png": "[encoded data removed]"
          },
          "metadata": {}
        }
      ]
    }
  ]
}